{
  "nbformat": 4,
  "nbformat_minor": 0,
  "metadata": {
    "colab": {
      "name": "GenaralizedSigmoid.ipynb",
      "provenance": [],
      "collapsed_sections": [],
      "toc_visible": true,
      "authorship_tag": "ABX9TyN1rCQkG8ui6ZrxR9iYXm3J",
      "include_colab_link": true
    },
    "kernelspec": {
      "name": "python3",
      "display_name": "Python 3"
    },
    "language_info": {
      "name": "python"
    },
    "widgets": {
      "application/vnd.jupyter.widget-state+json": {
        "1e4c04558f704759851c4bc480a82ab0": {
          "model_module": "@jupyter-widgets/controls",
          "model_name": "HBoxModel",
          "state": {
            "_view_name": "HBoxView",
            "_dom_classes": [],
            "_model_name": "HBoxModel",
            "_view_module": "@jupyter-widgets/controls",
            "_model_module_version": "1.5.0",
            "_view_count": null,
            "_view_module_version": "1.5.0",
            "box_style": "",
            "layout": "IPY_MODEL_17eb4382c2f54e8ca0325ce277fce5a6",
            "_model_module": "@jupyter-widgets/controls",
            "children": [
              "IPY_MODEL_49184f7e3d2e4f70868ab1b64a38775d",
              "IPY_MODEL_d8b7ea22f887402aaa20cd7989635eed"
            ]
          }
        },
        "17eb4382c2f54e8ca0325ce277fce5a6": {
          "model_module": "@jupyter-widgets/base",
          "model_name": "LayoutModel",
          "state": {
            "_view_name": "LayoutView",
            "grid_template_rows": null,
            "right": null,
            "justify_content": null,
            "_view_module": "@jupyter-widgets/base",
            "overflow": null,
            "_model_module_version": "1.2.0",
            "_view_count": null,
            "flex_flow": null,
            "width": null,
            "min_width": null,
            "border": null,
            "align_items": null,
            "bottom": null,
            "_model_module": "@jupyter-widgets/base",
            "top": null,
            "grid_column": null,
            "overflow_y": null,
            "overflow_x": null,
            "grid_auto_flow": null,
            "grid_area": null,
            "grid_template_columns": null,
            "flex": null,
            "_model_name": "LayoutModel",
            "justify_items": null,
            "grid_row": null,
            "max_height": null,
            "align_content": null,
            "visibility": null,
            "align_self": null,
            "height": null,
            "min_height": null,
            "padding": null,
            "grid_auto_rows": null,
            "grid_gap": null,
            "max_width": null,
            "order": null,
            "_view_module_version": "1.2.0",
            "grid_template_areas": null,
            "object_position": null,
            "object_fit": null,
            "grid_auto_columns": null,
            "margin": null,
            "display": null,
            "left": null
          }
        },
        "49184f7e3d2e4f70868ab1b64a38775d": {
          "model_module": "@jupyter-widgets/controls",
          "model_name": "FloatProgressModel",
          "state": {
            "_view_name": "ProgressView",
            "style": "IPY_MODEL_a4f72c43ed9a4a4f9dacfbb589ad685b",
            "_dom_classes": [],
            "description": "100%",
            "_model_name": "FloatProgressModel",
            "bar_style": "success",
            "max": 1000,
            "_view_module": "@jupyter-widgets/controls",
            "_model_module_version": "1.5.0",
            "value": 1000,
            "_view_count": null,
            "_view_module_version": "1.5.0",
            "orientation": "horizontal",
            "min": 0,
            "description_tooltip": null,
            "_model_module": "@jupyter-widgets/controls",
            "layout": "IPY_MODEL_6478e4cf2af943a2bfbb8bd461e3ba5a"
          }
        },
        "d8b7ea22f887402aaa20cd7989635eed": {
          "model_module": "@jupyter-widgets/controls",
          "model_name": "HTMLModel",
          "state": {
            "_view_name": "HTMLView",
            "style": "IPY_MODEL_d3ea7dfe76e842a9b9a3c5cc29e74ebb",
            "_dom_classes": [],
            "description": "",
            "_model_name": "HTMLModel",
            "placeholder": "​",
            "_view_module": "@jupyter-widgets/controls",
            "_model_module_version": "1.5.0",
            "value": " 1000/1000 [00:27&lt;00:00, 36.42epoch/s]",
            "_view_count": null,
            "_view_module_version": "1.5.0",
            "description_tooltip": null,
            "_model_module": "@jupyter-widgets/controls",
            "layout": "IPY_MODEL_5ea29a27bd3b477697942625ffea5777"
          }
        },
        "a4f72c43ed9a4a4f9dacfbb589ad685b": {
          "model_module": "@jupyter-widgets/controls",
          "model_name": "ProgressStyleModel",
          "state": {
            "_view_name": "StyleView",
            "_model_name": "ProgressStyleModel",
            "description_width": "initial",
            "_view_module": "@jupyter-widgets/base",
            "_model_module_version": "1.5.0",
            "_view_count": null,
            "_view_module_version": "1.2.0",
            "bar_color": null,
            "_model_module": "@jupyter-widgets/controls"
          }
        },
        "6478e4cf2af943a2bfbb8bd461e3ba5a": {
          "model_module": "@jupyter-widgets/base",
          "model_name": "LayoutModel",
          "state": {
            "_view_name": "LayoutView",
            "grid_template_rows": null,
            "right": null,
            "justify_content": null,
            "_view_module": "@jupyter-widgets/base",
            "overflow": null,
            "_model_module_version": "1.2.0",
            "_view_count": null,
            "flex_flow": null,
            "width": null,
            "min_width": null,
            "border": null,
            "align_items": null,
            "bottom": null,
            "_model_module": "@jupyter-widgets/base",
            "top": null,
            "grid_column": null,
            "overflow_y": null,
            "overflow_x": null,
            "grid_auto_flow": null,
            "grid_area": null,
            "grid_template_columns": null,
            "flex": null,
            "_model_name": "LayoutModel",
            "justify_items": null,
            "grid_row": null,
            "max_height": null,
            "align_content": null,
            "visibility": null,
            "align_self": null,
            "height": null,
            "min_height": null,
            "padding": null,
            "grid_auto_rows": null,
            "grid_gap": null,
            "max_width": null,
            "order": null,
            "_view_module_version": "1.2.0",
            "grid_template_areas": null,
            "object_position": null,
            "object_fit": null,
            "grid_auto_columns": null,
            "margin": null,
            "display": null,
            "left": null
          }
        },
        "d3ea7dfe76e842a9b9a3c5cc29e74ebb": {
          "model_module": "@jupyter-widgets/controls",
          "model_name": "DescriptionStyleModel",
          "state": {
            "_view_name": "StyleView",
            "_model_name": "DescriptionStyleModel",
            "description_width": "",
            "_view_module": "@jupyter-widgets/base",
            "_model_module_version": "1.5.0",
            "_view_count": null,
            "_view_module_version": "1.2.0",
            "_model_module": "@jupyter-widgets/controls"
          }
        },
        "5ea29a27bd3b477697942625ffea5777": {
          "model_module": "@jupyter-widgets/base",
          "model_name": "LayoutModel",
          "state": {
            "_view_name": "LayoutView",
            "grid_template_rows": null,
            "right": null,
            "justify_content": null,
            "_view_module": "@jupyter-widgets/base",
            "overflow": null,
            "_model_module_version": "1.2.0",
            "_view_count": null,
            "flex_flow": null,
            "width": null,
            "min_width": null,
            "border": null,
            "align_items": null,
            "bottom": null,
            "_model_module": "@jupyter-widgets/base",
            "top": null,
            "grid_column": null,
            "overflow_y": null,
            "overflow_x": null,
            "grid_auto_flow": null,
            "grid_area": null,
            "grid_template_columns": null,
            "flex": null,
            "_model_name": "LayoutModel",
            "justify_items": null,
            "grid_row": null,
            "max_height": null,
            "align_content": null,
            "visibility": null,
            "align_self": null,
            "height": null,
            "min_height": null,
            "padding": null,
            "grid_auto_rows": null,
            "grid_gap": null,
            "max_width": null,
            "order": null,
            "_view_module_version": "1.2.0",
            "grid_template_areas": null,
            "object_position": null,
            "object_fit": null,
            "grid_auto_columns": null,
            "margin": null,
            "display": null,
            "left": null
          }
        },
        "234f052fcb994fbeb420b2a0de526195": {
          "model_module": "@jupyter-widgets/controls",
          "model_name": "HBoxModel",
          "state": {
            "_view_name": "HBoxView",
            "_dom_classes": [],
            "_model_name": "HBoxModel",
            "_view_module": "@jupyter-widgets/controls",
            "_model_module_version": "1.5.0",
            "_view_count": null,
            "_view_module_version": "1.5.0",
            "box_style": "",
            "layout": "IPY_MODEL_d32286c762424340a087a95fda47ae97",
            "_model_module": "@jupyter-widgets/controls",
            "children": [
              "IPY_MODEL_346bc7799cad4b72b51b26d12c45b69c",
              "IPY_MODEL_6abab68e43ef4c8fb6e6530be811f290"
            ]
          }
        },
        "d32286c762424340a087a95fda47ae97": {
          "model_module": "@jupyter-widgets/base",
          "model_name": "LayoutModel",
          "state": {
            "_view_name": "LayoutView",
            "grid_template_rows": null,
            "right": null,
            "justify_content": null,
            "_view_module": "@jupyter-widgets/base",
            "overflow": null,
            "_model_module_version": "1.2.0",
            "_view_count": null,
            "flex_flow": null,
            "width": null,
            "min_width": null,
            "border": null,
            "align_items": null,
            "bottom": null,
            "_model_module": "@jupyter-widgets/base",
            "top": null,
            "grid_column": null,
            "overflow_y": null,
            "overflow_x": null,
            "grid_auto_flow": null,
            "grid_area": null,
            "grid_template_columns": null,
            "flex": null,
            "_model_name": "LayoutModel",
            "justify_items": null,
            "grid_row": null,
            "max_height": null,
            "align_content": null,
            "visibility": null,
            "align_self": null,
            "height": null,
            "min_height": null,
            "padding": null,
            "grid_auto_rows": null,
            "grid_gap": null,
            "max_width": null,
            "order": null,
            "_view_module_version": "1.2.0",
            "grid_template_areas": null,
            "object_position": null,
            "object_fit": null,
            "grid_auto_columns": null,
            "margin": null,
            "display": null,
            "left": null
          }
        },
        "346bc7799cad4b72b51b26d12c45b69c": {
          "model_module": "@jupyter-widgets/controls",
          "model_name": "FloatProgressModel",
          "state": {
            "_view_name": "ProgressView",
            "style": "IPY_MODEL_5e2af014d1084ef4bb1d835fe38e854a",
            "_dom_classes": [],
            "description": "100%",
            "_model_name": "FloatProgressModel",
            "bar_style": "success",
            "max": 1000,
            "_view_module": "@jupyter-widgets/controls",
            "_model_module_version": "1.5.0",
            "value": 1000,
            "_view_count": null,
            "_view_module_version": "1.5.0",
            "orientation": "horizontal",
            "min": 0,
            "description_tooltip": null,
            "_model_module": "@jupyter-widgets/controls",
            "layout": "IPY_MODEL_0ac95055acb64c9bb66f24e3a06d6218"
          }
        },
        "6abab68e43ef4c8fb6e6530be811f290": {
          "model_module": "@jupyter-widgets/controls",
          "model_name": "HTMLModel",
          "state": {
            "_view_name": "HTMLView",
            "style": "IPY_MODEL_38cbea9f12f4477fae848c5e098cb705",
            "_dom_classes": [],
            "description": "",
            "_model_name": "HTMLModel",
            "placeholder": "​",
            "_view_module": "@jupyter-widgets/controls",
            "_model_module_version": "1.5.0",
            "value": " 1000/1000 [32:38&lt;00:00,  1.96s/epoch]",
            "_view_count": null,
            "_view_module_version": "1.5.0",
            "description_tooltip": null,
            "_model_module": "@jupyter-widgets/controls",
            "layout": "IPY_MODEL_ecf68d94a1cf4c3ca654147e633e1b4d"
          }
        },
        "5e2af014d1084ef4bb1d835fe38e854a": {
          "model_module": "@jupyter-widgets/controls",
          "model_name": "ProgressStyleModel",
          "state": {
            "_view_name": "StyleView",
            "_model_name": "ProgressStyleModel",
            "description_width": "initial",
            "_view_module": "@jupyter-widgets/base",
            "_model_module_version": "1.5.0",
            "_view_count": null,
            "_view_module_version": "1.2.0",
            "bar_color": null,
            "_model_module": "@jupyter-widgets/controls"
          }
        },
        "0ac95055acb64c9bb66f24e3a06d6218": {
          "model_module": "@jupyter-widgets/base",
          "model_name": "LayoutModel",
          "state": {
            "_view_name": "LayoutView",
            "grid_template_rows": null,
            "right": null,
            "justify_content": null,
            "_view_module": "@jupyter-widgets/base",
            "overflow": null,
            "_model_module_version": "1.2.0",
            "_view_count": null,
            "flex_flow": null,
            "width": null,
            "min_width": null,
            "border": null,
            "align_items": null,
            "bottom": null,
            "_model_module": "@jupyter-widgets/base",
            "top": null,
            "grid_column": null,
            "overflow_y": null,
            "overflow_x": null,
            "grid_auto_flow": null,
            "grid_area": null,
            "grid_template_columns": null,
            "flex": null,
            "_model_name": "LayoutModel",
            "justify_items": null,
            "grid_row": null,
            "max_height": null,
            "align_content": null,
            "visibility": null,
            "align_self": null,
            "height": null,
            "min_height": null,
            "padding": null,
            "grid_auto_rows": null,
            "grid_gap": null,
            "max_width": null,
            "order": null,
            "_view_module_version": "1.2.0",
            "grid_template_areas": null,
            "object_position": null,
            "object_fit": null,
            "grid_auto_columns": null,
            "margin": null,
            "display": null,
            "left": null
          }
        },
        "38cbea9f12f4477fae848c5e098cb705": {
          "model_module": "@jupyter-widgets/controls",
          "model_name": "DescriptionStyleModel",
          "state": {
            "_view_name": "StyleView",
            "_model_name": "DescriptionStyleModel",
            "description_width": "",
            "_view_module": "@jupyter-widgets/base",
            "_model_module_version": "1.5.0",
            "_view_count": null,
            "_view_module_version": "1.2.0",
            "_model_module": "@jupyter-widgets/controls"
          }
        },
        "ecf68d94a1cf4c3ca654147e633e1b4d": {
          "model_module": "@jupyter-widgets/base",
          "model_name": "LayoutModel",
          "state": {
            "_view_name": "LayoutView",
            "grid_template_rows": null,
            "right": null,
            "justify_content": null,
            "_view_module": "@jupyter-widgets/base",
            "overflow": null,
            "_model_module_version": "1.2.0",
            "_view_count": null,
            "flex_flow": null,
            "width": null,
            "min_width": null,
            "border": null,
            "align_items": null,
            "bottom": null,
            "_model_module": "@jupyter-widgets/base",
            "top": null,
            "grid_column": null,
            "overflow_y": null,
            "overflow_x": null,
            "grid_auto_flow": null,
            "grid_area": null,
            "grid_template_columns": null,
            "flex": null,
            "_model_name": "LayoutModel",
            "justify_items": null,
            "grid_row": null,
            "max_height": null,
            "align_content": null,
            "visibility": null,
            "align_self": null,
            "height": null,
            "min_height": null,
            "padding": null,
            "grid_auto_rows": null,
            "grid_gap": null,
            "max_width": null,
            "order": null,
            "_view_module_version": "1.2.0",
            "grid_template_areas": null,
            "object_position": null,
            "object_fit": null,
            "grid_auto_columns": null,
            "margin": null,
            "display": null,
            "left": null
          }
        },
        "7784a2da26f94a7dac5d30eb4eb568c0": {
          "model_module": "@jupyter-widgets/controls",
          "model_name": "HBoxModel",
          "state": {
            "_view_name": "HBoxView",
            "_dom_classes": [],
            "_model_name": "HBoxModel",
            "_view_module": "@jupyter-widgets/controls",
            "_model_module_version": "1.5.0",
            "_view_count": null,
            "_view_module_version": "1.5.0",
            "box_style": "",
            "layout": "IPY_MODEL_5cd4b589e5d345f5ab720fcc108e4e8b",
            "_model_module": "@jupyter-widgets/controls",
            "children": [
              "IPY_MODEL_3f92ce690645468091c188bb6288e169",
              "IPY_MODEL_499edb16b6484207877dd9a0541532fb"
            ]
          }
        },
        "5cd4b589e5d345f5ab720fcc108e4e8b": {
          "model_module": "@jupyter-widgets/base",
          "model_name": "LayoutModel",
          "state": {
            "_view_name": "LayoutView",
            "grid_template_rows": null,
            "right": null,
            "justify_content": null,
            "_view_module": "@jupyter-widgets/base",
            "overflow": null,
            "_model_module_version": "1.2.0",
            "_view_count": null,
            "flex_flow": null,
            "width": null,
            "min_width": null,
            "border": null,
            "align_items": null,
            "bottom": null,
            "_model_module": "@jupyter-widgets/base",
            "top": null,
            "grid_column": null,
            "overflow_y": null,
            "overflow_x": null,
            "grid_auto_flow": null,
            "grid_area": null,
            "grid_template_columns": null,
            "flex": null,
            "_model_name": "LayoutModel",
            "justify_items": null,
            "grid_row": null,
            "max_height": null,
            "align_content": null,
            "visibility": null,
            "align_self": null,
            "height": null,
            "min_height": null,
            "padding": null,
            "grid_auto_rows": null,
            "grid_gap": null,
            "max_width": null,
            "order": null,
            "_view_module_version": "1.2.0",
            "grid_template_areas": null,
            "object_position": null,
            "object_fit": null,
            "grid_auto_columns": null,
            "margin": null,
            "display": null,
            "left": null
          }
        },
        "3f92ce690645468091c188bb6288e169": {
          "model_module": "@jupyter-widgets/controls",
          "model_name": "FloatProgressModel",
          "state": {
            "_view_name": "ProgressView",
            "style": "IPY_MODEL_cdab7376bd744f798c9a860ab90f4b2c",
            "_dom_classes": [],
            "description": "100%",
            "_model_name": "FloatProgressModel",
            "bar_style": "success",
            "max": 1000,
            "_view_module": "@jupyter-widgets/controls",
            "_model_module_version": "1.5.0",
            "value": 1000,
            "_view_count": null,
            "_view_module_version": "1.5.0",
            "orientation": "horizontal",
            "min": 0,
            "description_tooltip": null,
            "_model_module": "@jupyter-widgets/controls",
            "layout": "IPY_MODEL_ca55449a66da4f9c9e4d1f4773a09c8c"
          }
        },
        "499edb16b6484207877dd9a0541532fb": {
          "model_module": "@jupyter-widgets/controls",
          "model_name": "HTMLModel",
          "state": {
            "_view_name": "HTMLView",
            "style": "IPY_MODEL_79f85985a34646ab992796c3a882e0d6",
            "_dom_classes": [],
            "description": "",
            "_model_name": "HTMLModel",
            "placeholder": "​",
            "_view_module": "@jupyter-widgets/controls",
            "_model_module_version": "1.5.0",
            "value": " 1000/1000 [26:24&lt;00:00,  1.58s/epoch]",
            "_view_count": null,
            "_view_module_version": "1.5.0",
            "description_tooltip": null,
            "_model_module": "@jupyter-widgets/controls",
            "layout": "IPY_MODEL_427c64331a1f4efba53977c5fe5d5cf1"
          }
        },
        "cdab7376bd744f798c9a860ab90f4b2c": {
          "model_module": "@jupyter-widgets/controls",
          "model_name": "ProgressStyleModel",
          "state": {
            "_view_name": "StyleView",
            "_model_name": "ProgressStyleModel",
            "description_width": "initial",
            "_view_module": "@jupyter-widgets/base",
            "_model_module_version": "1.5.0",
            "_view_count": null,
            "_view_module_version": "1.2.0",
            "bar_color": null,
            "_model_module": "@jupyter-widgets/controls"
          }
        },
        "ca55449a66da4f9c9e4d1f4773a09c8c": {
          "model_module": "@jupyter-widgets/base",
          "model_name": "LayoutModel",
          "state": {
            "_view_name": "LayoutView",
            "grid_template_rows": null,
            "right": null,
            "justify_content": null,
            "_view_module": "@jupyter-widgets/base",
            "overflow": null,
            "_model_module_version": "1.2.0",
            "_view_count": null,
            "flex_flow": null,
            "width": null,
            "min_width": null,
            "border": null,
            "align_items": null,
            "bottom": null,
            "_model_module": "@jupyter-widgets/base",
            "top": null,
            "grid_column": null,
            "overflow_y": null,
            "overflow_x": null,
            "grid_auto_flow": null,
            "grid_area": null,
            "grid_template_columns": null,
            "flex": null,
            "_model_name": "LayoutModel",
            "justify_items": null,
            "grid_row": null,
            "max_height": null,
            "align_content": null,
            "visibility": null,
            "align_self": null,
            "height": null,
            "min_height": null,
            "padding": null,
            "grid_auto_rows": null,
            "grid_gap": null,
            "max_width": null,
            "order": null,
            "_view_module_version": "1.2.0",
            "grid_template_areas": null,
            "object_position": null,
            "object_fit": null,
            "grid_auto_columns": null,
            "margin": null,
            "display": null,
            "left": null
          }
        },
        "79f85985a34646ab992796c3a882e0d6": {
          "model_module": "@jupyter-widgets/controls",
          "model_name": "DescriptionStyleModel",
          "state": {
            "_view_name": "StyleView",
            "_model_name": "DescriptionStyleModel",
            "description_width": "",
            "_view_module": "@jupyter-widgets/base",
            "_model_module_version": "1.5.0",
            "_view_count": null,
            "_view_module_version": "1.2.0",
            "_model_module": "@jupyter-widgets/controls"
          }
        },
        "427c64331a1f4efba53977c5fe5d5cf1": {
          "model_module": "@jupyter-widgets/base",
          "model_name": "LayoutModel",
          "state": {
            "_view_name": "LayoutView",
            "grid_template_rows": null,
            "right": null,
            "justify_content": null,
            "_view_module": "@jupyter-widgets/base",
            "overflow": null,
            "_model_module_version": "1.2.0",
            "_view_count": null,
            "flex_flow": null,
            "width": null,
            "min_width": null,
            "border": null,
            "align_items": null,
            "bottom": null,
            "_model_module": "@jupyter-widgets/base",
            "top": null,
            "grid_column": null,
            "overflow_y": null,
            "overflow_x": null,
            "grid_auto_flow": null,
            "grid_area": null,
            "grid_template_columns": null,
            "flex": null,
            "_model_name": "LayoutModel",
            "justify_items": null,
            "grid_row": null,
            "max_height": null,
            "align_content": null,
            "visibility": null,
            "align_self": null,
            "height": null,
            "min_height": null,
            "padding": null,
            "grid_auto_rows": null,
            "grid_gap": null,
            "max_width": null,
            "order": null,
            "_view_module_version": "1.2.0",
            "grid_template_areas": null,
            "object_position": null,
            "object_fit": null,
            "grid_auto_columns": null,
            "margin": null,
            "display": null,
            "left": null
          }
        },
        "b4801a7bde7e4f37993dc5be0f277f48": {
          "model_module": "@jupyter-widgets/controls",
          "model_name": "HBoxModel",
          "state": {
            "_view_name": "HBoxView",
            "_dom_classes": [],
            "_model_name": "HBoxModel",
            "_view_module": "@jupyter-widgets/controls",
            "_model_module_version": "1.5.0",
            "_view_count": null,
            "_view_module_version": "1.5.0",
            "box_style": "",
            "layout": "IPY_MODEL_2a1196c5908148a1af3236083ff5dfa4",
            "_model_module": "@jupyter-widgets/controls",
            "children": [
              "IPY_MODEL_6693cbe42acf4c16a977cd3ab617d6c5",
              "IPY_MODEL_a188fcc6736e4bf9864314669f0fcc36"
            ]
          }
        },
        "2a1196c5908148a1af3236083ff5dfa4": {
          "model_module": "@jupyter-widgets/base",
          "model_name": "LayoutModel",
          "state": {
            "_view_name": "LayoutView",
            "grid_template_rows": null,
            "right": null,
            "justify_content": null,
            "_view_module": "@jupyter-widgets/base",
            "overflow": null,
            "_model_module_version": "1.2.0",
            "_view_count": null,
            "flex_flow": null,
            "width": null,
            "min_width": null,
            "border": null,
            "align_items": null,
            "bottom": null,
            "_model_module": "@jupyter-widgets/base",
            "top": null,
            "grid_column": null,
            "overflow_y": null,
            "overflow_x": null,
            "grid_auto_flow": null,
            "grid_area": null,
            "grid_template_columns": null,
            "flex": null,
            "_model_name": "LayoutModel",
            "justify_items": null,
            "grid_row": null,
            "max_height": null,
            "align_content": null,
            "visibility": null,
            "align_self": null,
            "height": null,
            "min_height": null,
            "padding": null,
            "grid_auto_rows": null,
            "grid_gap": null,
            "max_width": null,
            "order": null,
            "_view_module_version": "1.2.0",
            "grid_template_areas": null,
            "object_position": null,
            "object_fit": null,
            "grid_auto_columns": null,
            "margin": null,
            "display": null,
            "left": null
          }
        },
        "6693cbe42acf4c16a977cd3ab617d6c5": {
          "model_module": "@jupyter-widgets/controls",
          "model_name": "FloatProgressModel",
          "state": {
            "_view_name": "ProgressView",
            "style": "IPY_MODEL_ff14ab6bc42b47d4b39eb0b5ba1136aa",
            "_dom_classes": [],
            "description": "100%",
            "_model_name": "FloatProgressModel",
            "bar_style": "success",
            "max": 1000,
            "_view_module": "@jupyter-widgets/controls",
            "_model_module_version": "1.5.0",
            "value": 1000,
            "_view_count": null,
            "_view_module_version": "1.5.0",
            "orientation": "horizontal",
            "min": 0,
            "description_tooltip": null,
            "_model_module": "@jupyter-widgets/controls",
            "layout": "IPY_MODEL_79ac6aad09c44e1db86b7450f1395a41"
          }
        },
        "a188fcc6736e4bf9864314669f0fcc36": {
          "model_module": "@jupyter-widgets/controls",
          "model_name": "HTMLModel",
          "state": {
            "_view_name": "HTMLView",
            "style": "IPY_MODEL_0bce99c78e8b43e1bdb9f526091dd05f",
            "_dom_classes": [],
            "description": "",
            "_model_name": "HTMLModel",
            "placeholder": "​",
            "_view_module": "@jupyter-widgets/controls",
            "_model_module_version": "1.5.0",
            "value": " 1000/1000 [00:24&lt;00:00, 41.45epoch/s]",
            "_view_count": null,
            "_view_module_version": "1.5.0",
            "description_tooltip": null,
            "_model_module": "@jupyter-widgets/controls",
            "layout": "IPY_MODEL_fb17f720e1a34bbc9e48da0c719e2b4f"
          }
        },
        "ff14ab6bc42b47d4b39eb0b5ba1136aa": {
          "model_module": "@jupyter-widgets/controls",
          "model_name": "ProgressStyleModel",
          "state": {
            "_view_name": "StyleView",
            "_model_name": "ProgressStyleModel",
            "description_width": "initial",
            "_view_module": "@jupyter-widgets/base",
            "_model_module_version": "1.5.0",
            "_view_count": null,
            "_view_module_version": "1.2.0",
            "bar_color": null,
            "_model_module": "@jupyter-widgets/controls"
          }
        },
        "79ac6aad09c44e1db86b7450f1395a41": {
          "model_module": "@jupyter-widgets/base",
          "model_name": "LayoutModel",
          "state": {
            "_view_name": "LayoutView",
            "grid_template_rows": null,
            "right": null,
            "justify_content": null,
            "_view_module": "@jupyter-widgets/base",
            "overflow": null,
            "_model_module_version": "1.2.0",
            "_view_count": null,
            "flex_flow": null,
            "width": null,
            "min_width": null,
            "border": null,
            "align_items": null,
            "bottom": null,
            "_model_module": "@jupyter-widgets/base",
            "top": null,
            "grid_column": null,
            "overflow_y": null,
            "overflow_x": null,
            "grid_auto_flow": null,
            "grid_area": null,
            "grid_template_columns": null,
            "flex": null,
            "_model_name": "LayoutModel",
            "justify_items": null,
            "grid_row": null,
            "max_height": null,
            "align_content": null,
            "visibility": null,
            "align_self": null,
            "height": null,
            "min_height": null,
            "padding": null,
            "grid_auto_rows": null,
            "grid_gap": null,
            "max_width": null,
            "order": null,
            "_view_module_version": "1.2.0",
            "grid_template_areas": null,
            "object_position": null,
            "object_fit": null,
            "grid_auto_columns": null,
            "margin": null,
            "display": null,
            "left": null
          }
        },
        "0bce99c78e8b43e1bdb9f526091dd05f": {
          "model_module": "@jupyter-widgets/controls",
          "model_name": "DescriptionStyleModel",
          "state": {
            "_view_name": "StyleView",
            "_model_name": "DescriptionStyleModel",
            "description_width": "",
            "_view_module": "@jupyter-widgets/base",
            "_model_module_version": "1.5.0",
            "_view_count": null,
            "_view_module_version": "1.2.0",
            "_model_module": "@jupyter-widgets/controls"
          }
        },
        "fb17f720e1a34bbc9e48da0c719e2b4f": {
          "model_module": "@jupyter-widgets/base",
          "model_name": "LayoutModel",
          "state": {
            "_view_name": "LayoutView",
            "grid_template_rows": null,
            "right": null,
            "justify_content": null,
            "_view_module": "@jupyter-widgets/base",
            "overflow": null,
            "_model_module_version": "1.2.0",
            "_view_count": null,
            "flex_flow": null,
            "width": null,
            "min_width": null,
            "border": null,
            "align_items": null,
            "bottom": null,
            "_model_module": "@jupyter-widgets/base",
            "top": null,
            "grid_column": null,
            "overflow_y": null,
            "overflow_x": null,
            "grid_auto_flow": null,
            "grid_area": null,
            "grid_template_columns": null,
            "flex": null,
            "_model_name": "LayoutModel",
            "justify_items": null,
            "grid_row": null,
            "max_height": null,
            "align_content": null,
            "visibility": null,
            "align_self": null,
            "height": null,
            "min_height": null,
            "padding": null,
            "grid_auto_rows": null,
            "grid_gap": null,
            "max_width": null,
            "order": null,
            "_view_module_version": "1.2.0",
            "grid_template_areas": null,
            "object_position": null,
            "object_fit": null,
            "grid_auto_columns": null,
            "margin": null,
            "display": null,
            "left": null
          }
        }
      }
    }
  },
  "cells": [
    {
      "cell_type": "markdown",
      "metadata": {
        "id": "view-in-github",
        "colab_type": "text"
      },
      "source": [
        "<a href=\"https://colab.research.google.com/github/nuvvulapraveen17/MachineLearning-DeepLearning/blob/main/SigmoidExperiment/GenaralizedSigmoid.ipynb\" target=\"_parent\"><img src=\"https://colab.research.google.com/assets/colab-badge.svg\" alt=\"Open In Colab\"/></a>"
      ]
    },
    {
      "cell_type": "markdown",
      "metadata": {
        "id": "s1ekry8-UUNV"
      },
      "source": [
        "#Setup"
      ]
    },
    {
      "cell_type": "code",
      "metadata": {
        "id": "r8YwzlyGUYh5"
      },
      "source": [
        "# required libraries\n",
        "import numpy as np\n",
        "import matplotlib.pyplot as plt\n",
        "import matplotlib.colors\n",
        "import pandas as pd\n",
        "from sklearn.model_selection import train_test_split\n",
        "from sklearn.metrics import accuracy_score, mean_squared_error, log_loss\n",
        "from tqdm import tqdm_notebook \n",
        "\n",
        "# this is used to generate toy dataset\n",
        "from sklearn.datasets import make_blobs\n",
        "\n",
        "import warnings\n",
        "warnings.filterwarnings('ignore')"
      ],
      "execution_count": null,
      "outputs": []
    },
    {
      "cell_type": "markdown",
      "metadata": {
        "id": "krBKuko2Uea9"
      },
      "source": [
        "# Genaralized Sigmoid Neuron Class"
      ]
    },
    {
      "cell_type": "markdown",
      "metadata": {
        "id": "ynYd0BZOUkVf"
      },
      "source": [
        "This class is extension of the Sigmoid neuron class which i have implemented earlier which now includes the cross entropy loss. for better explanation see the SigmoidNeuron Class notebook in my github repo."
      ]
    },
    {
      "cell_type": "code",
      "metadata": {
        "id": "IvPx6KJGVDxl"
      },
      "source": [
        "class SigmoidNeuron:\n",
        "    \n",
        "  def __init__(self):\n",
        "    self.w = None\n",
        "    self.b = None\n",
        "    \n",
        "  def perceptron(self, x):\n",
        "    return np.dot(x, self.w.T) + self.b\n",
        "  \n",
        "  def sigmoid(self, x):\n",
        "    return 1.0/(1.0 + np.exp(-x))\n",
        "  \n",
        "  def grad_w_mse(self, x, y):\n",
        "    y_pred = self.sigmoid(self.perceptron(x))\n",
        "    return (y_pred - y) * y_pred * (1 - y_pred) * x\n",
        "  \n",
        "  def grad_b_mse(self, x, y):\n",
        "    y_pred = self.sigmoid(self.perceptron(x))\n",
        "    return (y_pred - y) * y_pred * (1 - y_pred)\n",
        "  \n",
        "  def grad_w_ce(self, x, y):\n",
        "    y_pred = self.sigmoid(self.perceptron(x))\n",
        "    if y == 0:\n",
        "      return y_pred * x\n",
        "    elif y == 1:\n",
        "      return -1 * (1 - y_pred) * x\n",
        "    else:\n",
        "      raise ValueError(\"y should be 0 or 1\")\n",
        "    \n",
        "  def grad_b_ce(self, x, y):\n",
        "    y_pred = self.sigmoid(self.perceptron(x))\n",
        "    if y == 0:\n",
        "      return y_pred \n",
        "    elif y == 1:\n",
        "      return -1 * (1 - y_pred)\n",
        "    else:\n",
        "      raise ValueError(\"y should be 0 or 1\")\n",
        "  \n",
        "  def fit(self, X, Y, epochs=1, learning_rate=1, initialise=True, loss_fn=\"mse\", display_loss=False):\n",
        "    \n",
        "    # initialise w, b\n",
        "    if initialise:\n",
        "      self.w = np.random.randn(1, X.shape[1])\n",
        "      self.b = 0\n",
        "      \n",
        "    if display_loss:\n",
        "      loss = {}\n",
        "    \n",
        "    for i in tqdm_notebook(range(epochs), total=epochs, unit=\"epoch\"):\n",
        "      dw = 0\n",
        "      db = 0\n",
        "      for x, y in zip(X, Y):\n",
        "        if loss_fn == \"mse\":\n",
        "          dw += self.grad_w_mse(x, y)\n",
        "          db += self.grad_b_mse(x, y) \n",
        "        elif loss_fn == \"ce\":\n",
        "          dw += self.grad_w_ce(x, y)\n",
        "          db += self.grad_b_ce(x, y)\n",
        "          \n",
        "      m = X.shape[1]  \n",
        "      self.w -= learning_rate * dw/m\n",
        "      self.b -= learning_rate * db/m\n",
        "      \n",
        "      if display_loss:\n",
        "        Y_pred = self.sigmoid(self.perceptron(X))\n",
        "        if loss_fn == \"mse\":\n",
        "          loss[i] = mean_squared_error(Y, Y_pred)\n",
        "        elif loss_fn == \"ce\":\n",
        "          loss[i] = log_loss(Y, Y_pred)\n",
        "    \n",
        "    if display_loss:\n",
        "      plt.plot(np.array(list(loss.values())).astype(float))\n",
        "      plt.xlabel('Epochs')\n",
        "      if loss_fn == \"mse\":\n",
        "        plt.ylabel('Mean Squared Error')\n",
        "      elif loss_fn == \"ce\":\n",
        "        plt.ylabel('Log Loss')\n",
        "      plt.show()\n",
        "      \n",
        "  def predict(self, X):\n",
        "    Y_pred = []\n",
        "    for x in X:\n",
        "      y_pred = self.sigmoid(self.perceptron(x))\n",
        "      Y_pred.append(y_pred)\n",
        "    return np.array(Y_pred)"
      ],
      "execution_count": null,
      "outputs": []
    },
    {
      "cell_type": "code",
      "metadata": {
        "id": "eMXmq_TjVG02"
      },
      "source": [
        "# These colors we will use later for plotting data purpose\n",
        "my_cmap = matplotlib.colors.LinearSegmentedColormap.from_list(\"\", [\"red\",\"yellow\",\"green\"])"
      ],
      "execution_count": null,
      "outputs": []
    },
    {
      "cell_type": "code",
      "metadata": {
        "id": "5yNs6NkrVUbA"
      },
      "source": [
        "np.random.seed(0)"
      ],
      "execution_count": null,
      "outputs": []
    },
    {
      "cell_type": "markdown",
      "metadata": {
        "id": "z-SESFtUVaou"
      },
      "source": [
        "# Generating Data"
      ]
    },
    {
      "cell_type": "markdown",
      "metadata": {
        "id": "UaiHcXTXVkru"
      },
      "source": [
        "**To generate a data, we use make_blobs method from sklearn**<br> It's used for generateing lots of data for ML models. it takes inputs as<br>\n",
        "(i) number of samples<br>\n",
        "(ii) no.of input features(parameters, n_features)<br>\n",
        "(iii) centres indicate how many clusters of data we need<br>\n",
        "(iv) random_state to replicate the same results every time(repetable)<br>\n",
        "it gives us data -> total data only input<br>\n",
        "labels -> output(y) for the data<br>\n",
        "\n",
        "These generated datasets are good for better understanding of our alorithm to visualize."
      ]
    },
    {
      "cell_type": "code",
      "metadata": {
        "colab": {
          "base_uri": "https://localhost:8080/"
        },
        "id": "erwADZagWHNx",
        "outputId": "bea7d67f-deb6-4f2b-bf1b-7bf69da474b3"
      },
      "source": [
        "data, labels = make_blobs(n_samples=1000, centers=4, n_features=2, random_state=0)\n",
        "print(data.shape, labels.shape)"
      ],
      "execution_count": null,
      "outputs": [
        {
          "output_type": "stream",
          "text": [
            "(1000, 2) (1000,)\n"
          ],
          "name": "stdout"
        }
      ]
    },
    {
      "cell_type": "markdown",
      "metadata": {
        "id": "lagEvWCgWgPj"
      },
      "source": [
        "**Lets Plot the data**<br>\n",
        "From above the shape of data indicates we have 1000 examples with 2 features<br>\n",
        "The labels is same 1000 rows and 1 column(y)<br>\n",
        "If we plot the data we can plot features on x and y axis and color indicates the class.<br>\n",
        "c is color so for each data points(each cluster) will get one among our cmap colors.\n",
        "\n",
        "**Note: We have used centres = 4 during data generation which produces 4 classes**<br>\n",
        "This is done intentionally to use the same data set for Multiclass Classification for later Notebooks on FFN for Multiclass classification(Will be updated later). "
      ]
    },
    {
      "cell_type": "code",
      "metadata": {
        "colab": {
          "base_uri": "https://localhost:8080/",
          "height": 265
        },
        "id": "RJkdEsU4WH41",
        "outputId": "6ba625b1-d410-409c-8891-a0e219713403"
      },
      "source": [
        "\n",
        "plt.scatter(data[:,0], data[:,1], c=labels, cmap=my_cmap)\n",
        "plt.show()\n",
        "\n",
        "# we can observe from the graph what does it mean by centre=4(clusters) in make_blobs"
      ],
      "execution_count": null,
      "outputs": [
        {
          "output_type": "display_data",
          "data": {
            "image/png": "[encoded data removed]",
            "text/plain": [
              "<Figure size 432x288 with 1 Axes>"
            ]
          },
          "metadata": {
            "tags": [],
            "needs_background": "light"
          }
        }
      ]
    },
    {
      "cell_type": "markdown",
      "metadata": {
        "id": "zAkNd6qYYEkB"
      },
      "source": [
        "**Q) How can we convert this to 2 clusters from 4 clusters ?**<br>\n",
        "We will use a simple modulus property on y(labels) -> (y%2) This will results our labels to simply 2 classes.<br>\n",
        "after modification the labels(0, 1, 2, 3) become into 2 classes(0, 1)\n"
      ]
    },
    {
      "cell_type": "code",
      "metadata": {
        "id": "6O4Mki7_XZ8a"
      },
      "source": [
        "labels_orig = labels\n",
        "labels = np.mod(labels_orig, 2)"
      ],
      "execution_count": null,
      "outputs": []
    },
    {
      "cell_type": "code",
      "metadata": {
        "colab": {
          "base_uri": "https://localhost:8080/",
          "height": 265
        },
        "id": "Zy1kGuwrY5lR",
        "outputId": "30fc3cfc-0523-47bb-b354-edde948f9d36"
      },
      "source": [
        "#lets plot them after modification\n",
        "plt.scatter(data[:,0], data[:,1], c=labels, cmap=my_cmap)\n",
        "plt.show()"
      ],
      "execution_count": null,
      "outputs": [
        {
          "output_type": "display_data",
          "data": {
            "image/png": "[encoded data removed]",
            "text/plain": [
              "<Figure size 432x288 with 1 Axes>"
            ]
          },
          "metadata": {
            "tags": [],
            "needs_background": "light"
          }
        }
      ]
    },
    {
      "cell_type": "markdown",
      "metadata": {
        "id": "mBMxVe18ZJZU"
      },
      "source": [
        "**Train Test split**<br>\n",
        "We will use sklearn library for this purpose because its gives better data split by using stratify rather than we just shuffle data and split it.<br>\n",
        "\n",
        "**Note**\n",
        "If you dont want to use sklearn train-test-split you can refer previous colab notebook in my github repo for manual train-test-split.<br>\n",
        "\n",
        "**Note**<br>\n",
        "Strarify will always be done on categorical values rather than on continous values/features."
      ]
    },
    {
      "cell_type": "code",
      "metadata": {
        "colab": {
          "base_uri": "https://localhost:8080/"
        },
        "id": "DIjLBAD0ZDtE",
        "outputId": "8043a05f-424c-4df7-8b41-9f7217d2a65d"
      },
      "source": [
        "# we will stratify based on labels\n",
        "X_train, X_val, Y_train, Y_val = train_test_split(data, labels, stratify=labels, random_state=0)\n",
        "print(X_train.shape, X_val.shape)"
      ],
      "execution_count": null,
      "outputs": [
        {
          "output_type": "stream",
          "text": [
            "(750, 2) (250, 2)\n"
          ],
          "name": "stdout"
        }
      ]
    },
    {
      "cell_type": "markdown",
      "metadata": {
        "id": "gWXY1XWqaYYa"
      },
      "source": [
        "# SN Classification - Training"
      ]
    },
    {
      "cell_type": "code",
      "metadata": {
        "colab": {
          "base_uri": "https://localhost:8080/",
          "height": 382,
          "referenced_widgets": [
            "1e4c04558f704759851c4bc480a82ab0",
            "17eb4382c2f54e8ca0325ce277fce5a6",
            "49184f7e3d2e4f70868ab1b64a38775d",
            "d8b7ea22f887402aaa20cd7989635eed",
            "a4f72c43ed9a4a4f9dacfbb589ad685b",
            "6478e4cf2af943a2bfbb8bd461e3ba5a",
            "d3ea7dfe76e842a9b9a3c5cc29e74ebb",
            "5ea29a27bd3b477697942625ffea5777"
          ]
        },
        "id": "eJiSlrD-akC7",
        "outputId": "d6e55317-ff5a-4dfc-81e6-9e1207ff4e31"
      },
      "source": [
        "# lets train the data with sigmoid class\n",
        "sn = SigmoidNeuron()\n",
        "sn.fit(X_train, Y_train, epochs=1000, learning_rate=1, display_loss=True)"
      ],
      "execution_count": null,
      "outputs": [
        {
          "output_type": "stream",
          "text": [
            "/usr/local/lib/python3.7/dist-packages/ipykernel_launcher.py:49: TqdmDeprecationWarning: This function will be removed in tqdm==5.0.0\n",
            "Please use `tqdm.notebook.tqdm` instead of `tqdm.tqdm_notebook`\n"
          ],
          "name": "stderr"
        },
        {
          "output_type": "display_data",
          "data": {
            "application/vnd.jupyter.widget-view+json": {
              "model_id": "1e4c04558f704759851c4bc480a82ab0",
              "version_minor": 0,
              "version_major": 2
            },
            "text/plain": [
              "HBox(children=(FloatProgress(value=0.0, max=1000.0), HTML(value='')))"
            ]
          },
          "metadata": {
            "tags": []
          }
        },
        {
          "output_type": "stream",
          "text": [
            "\n"
          ],
          "name": "stdout"
        },
        {
          "output_type": "display_data",
          "data": {
            "image/png": "[encoded data removed]",
            "text/plain": [
              "<Figure size 432x288 with 1 Axes>"
            ]
          },
          "metadata": {
            "tags": [],
            "needs_background": "light"
          }
        }
      ]
    },
    {
      "cell_type": "markdown",
      "metadata": {
        "id": "nOaGdYASaxa0"
      },
      "source": [
        "**Observation from Loss Curve:**<br>\n",
        "From the Loss/ error graph, the loss is reducing drastically but we can see a lot of oscillations but more or less it gets saturated.<br>\n",
        "\n",
        "These oscilations indicates that the learning rate is high because when we reach to local minimum our gradient descent algorithm makes larger step which makes our loss to fluctuate to and forth around the optimim loss.\n",
        "\n",
        "we can try using a smaller learning rate(0.5)."
      ]
    },
    {
      "cell_type": "code",
      "metadata": {
        "colab": {
          "base_uri": "https://localhost:8080/",
          "height": 382,
          "referenced_widgets": [
            "234f052fcb994fbeb420b2a0de526195",
            "d32286c762424340a087a95fda47ae97",
            "346bc7799cad4b72b51b26d12c45b69c",
            "6abab68e43ef4c8fb6e6530be811f290",
            "5e2af014d1084ef4bb1d835fe38e854a",
            "0ac95055acb64c9bb66f24e3a06d6218",
            "38cbea9f12f4477fae848c5e098cb705",
            "ecf68d94a1cf4c3ca654147e633e1b4d"
          ]
        },
        "id": "B8LNfoAXaode",
        "outputId": "320b6a33-7c91-4088-e5df-110f36d35dd2"
      },
      "source": [
        "sn = SigmoidNeuron()\n",
        "sn.fit(X_train, Y_train, epochs=1000, learning_rate=0.5, display_loss=True)"
      ],
      "execution_count": null,
      "outputs": [
        {
          "output_type": "stream",
          "text": [
            "/usr/local/lib/python3.7/dist-packages/ipykernel_launcher.py:49: TqdmDeprecationWarning: This function will be removed in tqdm==5.0.0\n",
            "Please use `tqdm.notebook.tqdm` instead of `tqdm.tqdm_notebook`\n"
          ],
          "name": "stderr"
        },
        {
          "output_type": "display_data",
          "data": {
            "application/vnd.jupyter.widget-view+json": {
              "model_id": "234f052fcb994fbeb420b2a0de526195",
              "version_minor": 0,
              "version_major": 2
            },
            "text/plain": [
              "HBox(children=(FloatProgress(value=0.0, max=1000.0), HTML(value='')))"
            ]
          },
          "metadata": {
            "tags": []
          }
        },
        {
          "output_type": "stream",
          "text": [
            "\n"
          ],
          "name": "stdout"
        },
        {
          "output_type": "display_data",
          "data": {
            "image/png": "[encoded data removed]",
            "text/plain": [
              "<Figure size 432x288 with 1 Axes>"
            ]
          },
          "metadata": {
            "tags": [],
            "needs_background": "light"
          }
        }
      ]
    },
    {
      "cell_type": "markdown",
      "metadata": {
        "id": "sMEOBYIQcTYx"
      },
      "source": [
        "**Observations:**<br>\n",
        "\n",
        "From the loss curve we are able to achieve accuracy of ~ 0.75. there is no scope for further improvement with sigmoid class as the loss is saturated."
      ]
    },
    {
      "cell_type": "code",
      "metadata": {
        "colab": {
          "base_uri": "https://localhost:8080/"
        },
        "id": "LHQSGswKcyGO",
        "outputId": "566ba163-1ffd-43d7-a591-33ca444fae6e"
      },
      "source": [
        "# lets predict the values using model\n",
        "# we need to binarise for accuracy calculation with threshold of 0.5\n",
        "# calculate the accuracy score using sklearn metrics\n",
        "Y_pred_train = sn.predict(X_train)\n",
        "Y_pred_binarised_train = (Y_pred_train >= 0.5).astype(\"int\").ravel()\n",
        "Y_pred_val = sn.predict(X_val)\n",
        "Y_pred_binarised_val = (Y_pred_val >= 0.5).astype(\"int\").ravel()\n",
        "accuracy_train = accuracy_score(Y_pred_binarised_train, Y_train)\n",
        "accuracy_val = accuracy_score(Y_pred_binarised_val, Y_val)\n",
        "\n",
        "print(\"Training accuracy\", round(accuracy_train, 2))\n",
        "print(\"Validation accuracy\", round(accuracy_val, 2))"
      ],
      "execution_count": null,
      "outputs": [
        {
          "output_type": "stream",
          "text": [
            "Training accuracy 0.73\n",
            "Validation accuracy 0.71\n"
          ],
          "name": "stdout"
        }
      ]
    },
    {
      "cell_type": "markdown",
      "metadata": {
        "id": "ea4JfyjIc0h2"
      },
      "source": [
        "**Observation:**\n",
        "we got aroung 0.73 train set accuracy & 0.71 for test set accuracy.\n",
        "\n",
        "As we are dealing with binary classification, if we use dummy model the accuracy will be ~ 0.5, so our model is doing better than dummy model but 0.73 is not up to the mark for satisfaction.\n",
        "\n",
        "**Note:**<br>\n",
        "**Dummy Model:** dummy model means no matter which data point we ask to predict it will always predict only one class out of two classes.<br>\n",
        "it can be either 1 or 2 -> so dummy model accuracy will be ~0.5(because of stratify)"
      ]
    },
    {
      "cell_type": "markdown",
      "metadata": {
        "id": "t-yaSKbnd14w"
      },
      "source": [
        "#Better visualization of predicted results"
      ]
    },
    {
      "cell_type": "markdown",
      "metadata": {
        "id": "qAdDmnSCd8E3"
      },
      "source": [
        "As we have build our model with 0.73 accuracy<br>\n",
        "lets plot the data with labels predicted by model. This gives us an idead of how label is predicting weather its correct or wrong by how much persent.<br>\n",
        "\n",
        "**It also show that we can take a random point and see the ground truth and model prediction.**<br>\n",
        "\n",
        "**Argument $s$ in scatter plot indicates the size of each point that shows in plot size.**<br>\n",
        "\n",
        "**in our case we defined it as difference between ground truth and model prediction and its absolute value with some scaling(15) and offset(0.2) if it matches correctly it gives zero but we have offset(o.2)*15 = 3 of size if it not matches then we will see its gives abs value 1(bcoz of binary) so it will give us 15*(1+0.2) = 18 of size small points are for which model are predicting correctly.**\n",
        "\n",
        "large points are wrongly classified\n",
        "\n",
        "In total we got a plot of 4-dimensions(yehh... higher dimensions in 2D plots)<br>\n",
        "x1 feature and x2 feature as 2 dimensions<br>\n",
        "class (color green or red ) as 3 dimension<br>\n",
        "size of points tells us the weather we are coreectly predicting (4-dim)"
      ]
    },
    {
      "cell_type": "code",
      "metadata": {
        "colab": {
          "base_uri": "https://localhost:8080/",
          "height": 265
        },
        "id": "e3kOk0HEew99",
        "outputId": "0867b5b5-fa25-4e7c-cdfd-6012db8d9ea4"
      },
      "source": [
        "plt.scatter(X_train[:,0], X_train[:,1], c=Y_pred_binarised_train, cmap=my_cmap, s=15*(np.abs(Y_pred_binarised_train-Y_train)+.2))\n",
        "plt.show()"
      ],
      "execution_count": null,
      "outputs": [
        {
          "output_type": "display_data",
          "data": {
            "image/png": "[encoded data removed]",
            "text/plain": [
              "<Figure size 432x288 with 1 Axes>"
            ]
          },
          "metadata": {
            "tags": [],
            "needs_background": "light"
          }
        }
      ]
    },
    {
      "cell_type": "markdown",
      "metadata": {
        "id": "dpROmL-FfprL"
      },
      "source": [
        "**observation:**<br>\n",
        "**Q)** Even though sigmoid is a binary classification algorithm, but it is not able to perform very well in our dataset(From above plot) why?\n",
        "\n",
        "**This is because the data is not linearly separable. and sigmoid neuron performs well only on linearly separable data**"
      ]
    },
    {
      "cell_type": "markdown",
      "metadata": {
        "id": "bdeLmNKRgONQ"
      },
      "source": [
        "# Using Cross entropy loss"
      ]
    },
    {
      "cell_type": "markdown",
      "metadata": {
        "id": "XWvneZxWgiud"
      },
      "source": [
        "Earlier we have used mean squared error loss lets try cross entropy loss."
      ]
    },
    {
      "cell_type": "code",
      "metadata": {
        "colab": {
          "base_uri": "https://localhost:8080/"
        },
        "id": "JqYfv0JYjlO2",
        "outputId": "a540cb07-ef30-4ba4-e9b0-bbd337c30246"
      },
      "source": [
        "X_train, X_val, Y_train, Y_val = train_test_split(data, labels, stratify=labels, random_state=0)\n",
        "print(X_train.shape, X_val.shape)"
      ],
      "execution_count": null,
      "outputs": [
        {
          "output_type": "stream",
          "text": [
            "(750, 2) (250, 2)\n"
          ],
          "name": "stdout"
        }
      ]
    },
    {
      "cell_type": "code",
      "metadata": {
        "colab": {
          "base_uri": "https://localhost:8080/",
          "height": 328,
          "referenced_widgets": [
            "7784a2da26f94a7dac5d30eb4eb568c0",
            "5cd4b589e5d345f5ab720fcc108e4e8b",
            "3f92ce690645468091c188bb6288e169",
            "499edb16b6484207877dd9a0541532fb",
            "cdab7376bd744f798c9a860ab90f4b2c",
            "ca55449a66da4f9c9e4d1f4773a09c8c",
            "79f85985a34646ab992796c3a882e0d6",
            "427c64331a1f4efba53977c5fe5d5cf1"
          ]
        },
        "id": "10vneF9DgrnA",
        "outputId": "c6fecfc3-4d22-4e6a-d99b-d8b885c8e99a"
      },
      "source": [
        "sn = SigmoidNeuron()\n",
        "sn.fit(X_train, Y_train, epochs=1000, learning_rate=0.01, loss_fn=\"ce\", display_loss=True)"
      ],
      "execution_count": null,
      "outputs": [
        {
          "output_type": "display_data",
          "data": {
            "application/vnd.jupyter.widget-view+json": {
              "model_id": "7784a2da26f94a7dac5d30eb4eb568c0",
              "version_minor": 0,
              "version_major": 2
            },
            "text/plain": [
              "HBox(children=(FloatProgress(value=0.0, max=1000.0), HTML(value='')))"
            ]
          },
          "metadata": {
            "tags": []
          }
        },
        {
          "output_type": "stream",
          "text": [
            "\n"
          ],
          "name": "stdout"
        },
        {
          "output_type": "display_data",
          "data": {
            "image/png": "[encoded data removed]",
            "text/plain": [
              "<Figure size 432x288 with 1 Axes>"
            ]
          },
          "metadata": {
            "tags": [],
            "needs_background": "light"
          }
        }
      ]
    },
    {
      "cell_type": "code",
      "metadata": {
        "colab": {
          "base_uri": "https://localhost:8080/"
        },
        "id": "KMh_7kmkhFKm",
        "outputId": "88f8bdf3-f424-4301-a0f5-8b3901bc2369"
      },
      "source": [
        "# lets predict the values using model\n",
        "# we need to binarise for accuracy calculation with threshold of 0.5\n",
        "# calculate the accuracy score using sklearn metrics\n",
        "Y_pred_train = sn.predict(X_train)\n",
        "Y_pred_binarised_train = (Y_pred_train >= 0.5).astype(\"int\").ravel()\n",
        "Y_pred_val = sn.predict(X_val)\n",
        "Y_pred_binarised_val = (Y_pred_val >= 0.5).astype(\"int\").ravel()\n",
        "accuracy_train = accuracy_score(Y_pred_binarised_train, Y_train)\n",
        "accuracy_val = accuracy_score(Y_pred_binarised_val, Y_val)\n",
        "\n",
        "print(\"Training accuracy\", round(accuracy_train, 2))\n",
        "print(\"Validation accuracy\", round(accuracy_val, 2))"
      ],
      "execution_count": null,
      "outputs": [
        {
          "output_type": "stream",
          "text": [
            "Training accuracy 0.5\n",
            "Validation accuracy 0.49\n"
          ],
          "name": "stdout"
        }
      ]
    },
    {
      "cell_type": "markdown",
      "metadata": {
        "id": "unJ-DQzWpIkq"
      },
      "source": [
        "**Observation:**\n",
        "From loss curve of cross entropy it might be due to Non-standardisation of our data set.\n",
        "\n",
        "**Lets Normalise the data and apply it.**"
      ]
    },
    {
      "cell_type": "code",
      "metadata": {
        "id": "uyOExcUHm7qY"
      },
      "source": [
        "from sklearn.preprocessing import StandardScaler\n",
        "scalar = StandardScaler()"
      ],
      "execution_count": null,
      "outputs": []
    },
    {
      "cell_type": "code",
      "metadata": {
        "id": "_mIkioIMk7ni"
      },
      "source": [
        "X_scaled_train = scalar.fit_transform(X_train)\n",
        "X_scaled_test = scalar.transform(X_val)"
      ],
      "execution_count": null,
      "outputs": []
    },
    {
      "cell_type": "code",
      "metadata": {
        "id": "XFIIimSfmzD4"
      },
      "source": [
        "from sklearn.preprocessing import MinMaxScaler\n",
        "minmax_scalar = MinMaxScaler()"
      ],
      "execution_count": null,
      "outputs": []
    },
    {
      "cell_type": "code",
      "metadata": {
        "id": "Aj2WmTjOnFni"
      },
      "source": [
        "Y_scaled_train = minmax_scalar.fit_transform(Y_train.reshape(-1,1))"
      ],
      "execution_count": null,
      "outputs": []
    },
    {
      "cell_type": "code",
      "metadata": {
        "id": "zK3i3DaMnI0K"
      },
      "source": [
        "Y_scaled_test = minmax_scalar.transform(Y_val.reshape(-1,1))"
      ],
      "execution_count": null,
      "outputs": []
    },
    {
      "cell_type": "code",
      "metadata": {
        "id": "T9fZqGzonoq2"
      },
      "source": [
        "threshold = 0.5\n",
        "scaled_threshold = minmax_scalar.transform(np.array([threshold]).reshape(1,-1))"
      ],
      "execution_count": null,
      "outputs": []
    },
    {
      "cell_type": "code",
      "metadata": {
        "id": "kz_-jqG-nwKt"
      },
      "source": [
        "scaled_threshold = list(minmax_scalar.transform(np.array([threshold]).reshape(1,-1)))[0][0]"
      ],
      "execution_count": null,
      "outputs": []
    },
    {
      "cell_type": "code",
      "metadata": {
        "colab": {
          "base_uri": "https://localhost:8080/"
        },
        "id": "d5TZZ5tvn5j_",
        "outputId": "9b5aca45-cf39-4c78-e4ee-b3b9dd624dad"
      },
      "source": [
        "scaled_threshold"
      ],
      "execution_count": null,
      "outputs": [
        {
          "output_type": "execute_result",
          "data": {
            "text/plain": [
              "0.5"
            ]
          },
          "metadata": {
            "tags": []
          },
          "execution_count": 51
        }
      ]
    },
    {
      "cell_type": "code",
      "metadata": {
        "id": "OuDi8TgIn7_i"
      },
      "source": [
        "Y_binarised_train = (Y_scaled_train > scaled_threshold)"
      ],
      "execution_count": null,
      "outputs": []
    },
    {
      "cell_type": "code",
      "metadata": {
        "id": "db7qVfHnn_fm"
      },
      "source": [
        "Y_binarised_train = (Y_scaled_train > scaled_threshold).astype('int')"
      ],
      "execution_count": null,
      "outputs": []
    },
    {
      "cell_type": "code",
      "metadata": {
        "id": "Icpj6jkkoD6s"
      },
      "source": [
        "Y_binarised_train = (Y_scaled_train > scaled_threshold).astype('int').ravel()"
      ],
      "execution_count": null,
      "outputs": []
    },
    {
      "cell_type": "code",
      "metadata": {
        "id": "IU6ztPtloG71"
      },
      "source": [
        "Y_binarised_test = (Y_scaled_test > scaled_threshold).astype('int').ravel()"
      ],
      "execution_count": null,
      "outputs": []
    },
    {
      "cell_type": "code",
      "metadata": {
        "colab": {
          "base_uri": "https://localhost:8080/",
          "height": 328,
          "referenced_widgets": [
            "b4801a7bde7e4f37993dc5be0f277f48",
            "2a1196c5908148a1af3236083ff5dfa4",
            "6693cbe42acf4c16a977cd3ab617d6c5",
            "a188fcc6736e4bf9864314669f0fcc36",
            "ff14ab6bc42b47d4b39eb0b5ba1136aa",
            "79ac6aad09c44e1db86b7450f1395a41",
            "0bce99c78e8b43e1bdb9f526091dd05f",
            "fb17f720e1a34bbc9e48da0c719e2b4f"
          ]
        },
        "id": "GW4SpIaEoLRn",
        "outputId": "393add7b-c86e-4a95-dbde-ee986d01119c"
      },
      "source": [
        "sn = SigmoidNeuron()\n",
        "sn.fit(X_scaled_train, Y_scaled_train, epochs=1000, learning_rate=0.001, loss_fn=\"ce\", display_loss=True)"
      ],
      "execution_count": null,
      "outputs": [
        {
          "output_type": "display_data",
          "data": {
            "application/vnd.jupyter.widget-view+json": {
              "model_id": "b4801a7bde7e4f37993dc5be0f277f48",
              "version_minor": 0,
              "version_major": 2
            },
            "text/plain": [
              "HBox(children=(FloatProgress(value=0.0, max=1000.0), HTML(value='')))"
            ]
          },
          "metadata": {
            "tags": []
          }
        },
        {
          "output_type": "stream",
          "text": [
            "\n"
          ],
          "name": "stdout"
        },
        {
          "output_type": "display_data",
          "data": {
            "image/png": "[encoded data removed]",
            "text/plain": [
              "<Figure size 432x288 with 1 Axes>"
            ]
          },
          "metadata": {
            "tags": [],
            "needs_background": "light"
          }
        }
      ]
    },
    {
      "cell_type": "code",
      "metadata": {
        "colab": {
          "base_uri": "https://localhost:8080/"
        },
        "id": "q2xtaTKToYJ3",
        "outputId": "dee48fdd-1ad8-4ec1-fef4-854959af9b35"
      },
      "source": [
        "Y_pred_train = sn.predict(X_scaled_train)\n",
        "Y_pred_test = sn.predict(X_scaled_test)\n",
        "\n",
        "Y_pred_binarised_train = (Y_pred_train > scaled_threshold).astype('int').ravel()\n",
        "Y_pred_binarised_test = (Y_pred_test > scaled_threshold).astype('int').ravel()\n",
        "\n",
        "accuracy_train = accuracy_score(Y_pred_binarised_train, Y_binarised_train)\n",
        "accuracy_test = accuracy_score(Y_pred_binarised_test, Y_binarised_test)\n",
        "\n",
        "print(accuracy_train, accuracy_test)"
      ],
      "execution_count": null,
      "outputs": [
        {
          "output_type": "stream",
          "text": [
            "0.6386666666666667 0.572\n"
          ],
          "name": "stdout"
        }
      ]
    },
    {
      "cell_type": "markdown",
      "metadata": {
        "id": "5vR6o2PXrJGX"
      },
      "source": [
        "**Observation:**<br>\n",
        "Even though we are using cross entropy loss still we are getting lesser accuracy in comparision to MSE, it might be due to Non-linear data.<br>\n",
        "\n",
        "I do don't know the exact reason for this, still searching in the dark."
      ]
    },
    {
      "cell_type": "code",
      "metadata": {
        "colab": {
          "base_uri": "https://localhost:8080/",
          "height": 265
        },
        "id": "jEhGTRS_rw7x",
        "outputId": "a5f92395-ac84-4163-c8f8-387a64238c1a"
      },
      "source": [
        "# lets plot\n",
        "plt.scatter(X_scaled_train[:,0], X_scaled_train[:,1], c=Y_pred_binarised_train, cmap=my_cmap, s=15*(np.abs(Y_pred_binarised_train-Y_train)+.2))\n",
        "plt.show()"
      ],
      "execution_count": null,
      "outputs": [
        {
          "output_type": "display_data",
          "data": {
            "image/png": "[encoded data removed]",
            "text/plain": [
              "<Figure size 432x288 with 1 Axes>"
            ]
          },
          "metadata": {
            "tags": [],
            "needs_background": "light"
          }
        }
      ]
    },
    {
      "cell_type": "markdown",
      "metadata": {
        "id": "g6_s34n6sUrC"
      },
      "source": [
        "**Interesting to see this, its acting like a dummy model.**<br>\n",
        "\n",
        "If you know why, reply me with a msg.\n",
        "\n",
        "Thanks."
      ]
    }
  ]
}